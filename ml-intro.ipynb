{
 "cells": [
  {
   "cell_type": "markdown",
   "metadata": {},
   "source": [
    "# Introduction to Machine Learning"
   ]
  },
  {
   "cell_type": "markdown",
   "metadata": {},
   "source": [
    "<a href=\"https://medium.datadriveninvestor.com/what-is-machine-learning-55028d8bdd53\">Machine Learning (ML)</a> didefinisikan sebagai penggunaan algoritma dan statistik komputasi untuk <b>belajar dari data tanpa diprogram secara eksplisit.</b>\n",
    "Machine Learning mencoba membuat sebuah mesin (komputer) dapat belajar layaknya manusia. Pada pemrograman tradisional, kita memberikan inputan dan aturan pada komputer, kemudian kita minta komputer untuk memberikan jawabannya. Namun pada machine learning, kita tidak memberikan aturan secara langsung, akan tetapi kita hanya memberikan inputan dan jawabannya saja. Lalu kita minta komputer untuk mencari aturan atau pola pada data inputan dan jawaban kita. Ini hanya sebagai ilustrasi perbedaan antara pemrograman tradisional dan machine learning, di mana kunci utama pada machine learning adalah pencarian pola pada data. Karena pada praktiknya, terdapat juga metode machine learning yang hanya membutuhkan inputan saja, seperti klaster."
   ]
  },
  {
   "cell_type": "markdown",
   "metadata": {},
   "source": [
    "<img src=\"img/trad_vs_ml.png\" style=\"height:500px\">"
   ]
  },
  {
   "cell_type": "markdown",
   "metadata": {},
   "source": [
    "Ketika berbicara tentang Machine Learning, kita tidak lepas dengan istilah Artificial Intelligence (AI). AI sendiri merupakan ... [@jk],\n"
   ]
  },
  {
   "cell_type": "markdown",
   "metadata": {},
   "source": [
    "## AI, ML, Data Science, dan Data Mining"
   ]
  },
  {
   "cell_type": "markdown",
   "metadata": {},
   "source": [
    "<i>OTW...</i>"
   ]
  },
  {
   "cell_type": "markdown",
   "metadata": {},
   "source": [
    "## Fitur dan Target"
   ]
  },
  {
   "cell_type": "markdown",
   "metadata": {},
   "source": [
    "Pada machine learning, target atau label adalah data yang akan diprediksi, sedangkan fitur adalah data yang digunakan untuk melakukan prediksi. Pada statistika, target biasa disebut sebagai variabel dependen atau variabel terikat. Sedangkan fitur pada  statistika biasa disebut sebagai variabel independen atau variabel bebas. Seperti yang dijelaskan sebelumnya, nantinya fitur dan target ini akan kita berikan pada komputer agar komputer dapat menemukan aturan atau pola yang dapat menghubungkan antara fitur dengan target. "
   ]
  },
  {
   "cell_type": "code",
   "execution_count": 5,
   "metadata": {},
   "outputs": [
    {
     "data": {
      "text/html": [
       "<div>\n",
       "<style scoped>\n",
       "    .dataframe tbody tr th:only-of-type {\n",
       "        vertical-align: middle;\n",
       "    }\n",
       "\n",
       "    .dataframe tbody tr th {\n",
       "        vertical-align: top;\n",
       "    }\n",
       "\n",
       "    .dataframe thead th {\n",
       "        text-align: right;\n",
       "    }\n",
       "</style>\n",
       "<table border=\"1\" class=\"dataframe\">\n",
       "  <thead>\n",
       "    <tr style=\"text-align: right;\">\n",
       "      <th></th>\n",
       "      <th>sepal_length</th>\n",
       "      <th>sepal_width</th>\n",
       "      <th>petal_length</th>\n",
       "      <th>petal_width</th>\n",
       "      <th>species</th>\n",
       "    </tr>\n",
       "  </thead>\n",
       "  <tbody>\n",
       "    <tr>\n",
       "      <th>0</th>\n",
       "      <td>5.1</td>\n",
       "      <td>3.5</td>\n",
       "      <td>1.4</td>\n",
       "      <td>0.2</td>\n",
       "      <td>setosa</td>\n",
       "    </tr>\n",
       "    <tr>\n",
       "      <th>1</th>\n",
       "      <td>4.9</td>\n",
       "      <td>3.0</td>\n",
       "      <td>1.4</td>\n",
       "      <td>0.2</td>\n",
       "      <td>setosa</td>\n",
       "    </tr>\n",
       "    <tr>\n",
       "      <th>2</th>\n",
       "      <td>4.7</td>\n",
       "      <td>3.2</td>\n",
       "      <td>1.3</td>\n",
       "      <td>0.2</td>\n",
       "      <td>setosa</td>\n",
       "    </tr>\n",
       "    <tr>\n",
       "      <th>3</th>\n",
       "      <td>4.6</td>\n",
       "      <td>3.1</td>\n",
       "      <td>1.5</td>\n",
       "      <td>0.2</td>\n",
       "      <td>setosa</td>\n",
       "    </tr>\n",
       "    <tr>\n",
       "      <th>4</th>\n",
       "      <td>5.0</td>\n",
       "      <td>3.6</td>\n",
       "      <td>1.4</td>\n",
       "      <td>0.2</td>\n",
       "      <td>setosa</td>\n",
       "    </tr>\n",
       "  </tbody>\n",
       "</table>\n",
       "</div>"
      ],
      "text/plain": [
       "   sepal_length  sepal_width  petal_length  petal_width species\n",
       "0           5.1          3.5           1.4          0.2  setosa\n",
       "1           4.9          3.0           1.4          0.2  setosa\n",
       "2           4.7          3.2           1.3          0.2  setosa\n",
       "3           4.6          3.1           1.5          0.2  setosa\n",
       "4           5.0          3.6           1.4          0.2  setosa"
      ]
     },
     "execution_count": 5,
     "metadata": {},
     "output_type": "execute_result"
    }
   ],
   "source": [
    "import seaborn as sns\n",
    "\n",
    "iris = sns.load_dataset('iris')\n",
    "iris.head()"
   ]
  },
  {
   "cell_type": "markdown",
   "metadata": {},
   "source": [
    "Dataset di atas merupakan data ukuran sepal dan petal pada spesies bunga iris. "
   ]
  },
  {
   "cell_type": "markdown",
   "metadata": {},
   "source": [
    "## Algoritma dan Model Machine Learning"
   ]
  },
  {
   "cell_type": "markdown",
   "metadata": {},
   "source": [
    "Ketika kita membahas gaya belajar, tentunya kita tidak asing dengan istilah gaya visual, auditori, dan kinestetik. Pada machine learning pun demikian. Sebelum meminta komputer belajar, kita perlu menentukan terlebih dahulu \"gaya belajar\" apa yang sebaiknya dipakai oleh komputer. Gaya belajar pada machine learning kita sebut sebagai <b>Algoritma Machine Learning</b>. Pola atau aturan yang didapatkan oleh komputer setelah melalui proses pembelajaran kita sebut <b>Model Machine Learning</b>.\n",
    "\n",
    "Menurut <a href=\"https://unida.ac.id/teknologi/artikel/pengertian-algoritma.html\">Rafael Nuansa Ramadhon</a>, algoritma adalah metode atau langkah yang direncanakan secara tersusun dan berurutan untuk menyelesaikan atau memecahkan permasalahan dengan sebuah intruksi atau kegiatan. Menurut <a href=\"https://en.wikipedia.org/wiki/Model\">Wikipedia</a>, model adalah representasi informatif dari objek, orang, atau sistem. Istilah ini awalnya menunjukkan denah sebuah bangunan dalam bahasa Inggris akhir abad ke-16, dan diturunkan melalui bahasa Prancis dan Italia pada akhirnya dari bahasa Latin modulus, sebuah ukuran. Model dapat dibagi menjadi model fisik (misalnya murid yang sukses sebagai panutan bagi orang lain di sekolah) dan model abstrak (misalnya ekspresi matematika yang menggambarkan pola perilaku). Model abstrak atau konseptual sangat penting bagi filsafat ilmu, karena hampir setiap teori ilmiah secara efektif menanamkan beberapa jenis model lingkungan fisik atau manusia.\n",
    "\n",
    "Menurut <a href=\"https://medium.com/technology-nineleaps/some-key-machine-learning-definitions-b524eb6cb48\">Joydeep Bhattacharjee</a>, algoritma dan model pada Machine Learning adalah:\n",
    "- Algoritma: Algoritma Machine Learning adalah kumpulan hipotesis yang diambil di awal sebelum pelatihan dimulai dengan data dunia nyata. Ketika kita mengatakan algoritma Regresi Linier, itu berarti sekumpulan fungsi yang mendefinisikan karakteristik serupa seperti yang didefinisikan oleh Regresi Linier dan dari kumpulan fungsi tersebut kita akan memilih satu fungsi yang paling sesuai dengan data pelatihan.\n",
    "- Model: Model  Machine Learning dapat menjadi representasi matematis dari proses dunia nyata. Untuk menghasilkan model pembelajaran mesin, Anda perlu memberikan data pelatihan ke algoritme pembelajaran mesin untuk dipelajari.\n",
    "\n"
   ]
  },
  {
   "cell_type": "markdown",
   "metadata": {},
   "source": []
  },
  {
   "cell_type": "code",
   "execution_count": 14,
   "metadata": {},
   "outputs": [
    {
     "data": {
      "text/plain": [
       "DecisionTreeClassifier()"
      ]
     },
     "execution_count": 14,
     "metadata": {},
     "output_type": "execute_result"
    }
   ],
   "source": [
    "from sklearn.model_selection import train_test_split\n",
    "from sklearn.tree import DecisionTreeClassifier\n",
    "\n",
    "X = iris.drop(columns='species')\n",
    "y = iris['species']\n",
    "X_train, X_test, y_train, y_test = train_test_split(X, y, random_state=100, stratify=y)\n",
    "\n",
    "model = DecisionTreeClassifier()\n",
    "model.fit(X_train, y_train)"
   ]
  },
  {
   "cell_type": "code",
   "execution_count": 13,
   "metadata": {},
   "outputs": [
    {
     "data": {
      "text/plain": [
       "array([[-0.42526906,  0.81734825, -2.30389284, -0.955796  ],\n",
       "       [ 0.50934976, -0.41374256, -0.11759712, -0.98387412],\n",
       "       [-0.08408071, -0.40360569,  2.42148996,  1.93967012]])"
      ]
     },
     "execution_count": 13,
     "metadata": {},
     "output_type": "execute_result"
    }
   ],
   "source": [
    "model.coef_"
   ]
  },
  {
   "cell_type": "markdown",
   "metadata": {},
   "source": [
    "Dataset di atas merupakan data bunga iris"
   ]
  },
  {
   "cell_type": "markdown",
   "metadata": {},
   "source": []
  }
 ],
 "metadata": {
  "interpreter": {
   "hash": "ecf5722fdaf1897a315d257d89d94520bfcaa453217d5becf09b39e73618b0de"
  },
  "kernelspec": {
   "display_name": "Python 3.8.5 64-bit ('base': conda)",
   "name": "python3"
  },
  "language_info": {
   "codemirror_mode": {
    "name": "ipython",
    "version": 3
   },
   "file_extension": ".py",
   "mimetype": "text/x-python",
   "name": "python",
   "nbconvert_exporter": "python",
   "pygments_lexer": "ipython3",
   "version": "3.8.5"
  },
  "orig_nbformat": 4
 },
 "nbformat": 4,
 "nbformat_minor": 2
}
